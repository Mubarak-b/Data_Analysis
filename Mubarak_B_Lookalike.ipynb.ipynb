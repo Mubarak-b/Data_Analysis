{
 "cells": [
  {
   "cell_type": "code",
   "execution_count": 9,
   "id": "bcf21405-e9ad-4ad4-85d9-8beaec96bdd4",
   "metadata": {},
   "outputs": [
    {
     "name": "stdout",
     "output_type": "stream",
     "text": [
      "Lookalike model completed and saved as Lookalike.csv\n"
     ]
    }
   ],
   "source": [
    "import pandas as pd\n",
    "import numpy as np\n",
    "from sklearn.metrics.pairwise import cosine_similarity\n",
    "from collections import defaultdict\n",
    "\n",
    "# Load data\n",
    "customers_df = pd.read_csv('Customers.csv')\n",
    "transactions_df = pd.read_csv('Transactions.csv')\n",
    "products_df = pd.read_csv('Products.csv')\n",
    "\n",
    "# Merge transactions with product data\n",
    "transactions_df = pd.merge(transactions_df, products_df, on='ProductID', how='left')\n",
    "\n",
    "# Aggregate the transaction data to create customer profiles\n",
    "# We will use product categories and total spending as features\n",
    "customer_profile = transactions_df.groupby(['CustomerID', 'Category']).agg(\n",
    "    total_spent=('TotalValue', 'sum'),\n",
    "    total_quantity=('Quantity', 'sum')\n",
    ").reset_index()\n",
    "\n",
    "# Pivot the data to create a customer-item matrix (rows: customers, columns: product categories)\n",
    "customer_category_matrix = customer_profile.pivot_table(index='CustomerID', columns='Category', \n",
    "                                                       values='total_spent', aggfunc='sum', fill_value=0)\n",
    "\n",
    "# Normalize the data (scaling the total_spent to avoid high magnitude bias)\n",
    "customer_category_matrix = customer_category_matrix.apply(lambda x: (x - x.mean()) / x.std(), axis=1)\n",
    "\n",
    "# Calculate cosine similarity between customers based on their spending in different categories\n",
    "similarity_matrix = cosine_similarity(customer_category_matrix)\n",
    "\n",
    "# Create a mapping of CustomerID -> Top 3 similar customers\n",
    "lookalike_map = defaultdict(list)\n",
    "\n",
    "for i, customer_id in enumerate(customer_category_matrix.index):\n",
    "    similarity_scores = similarity_matrix[i]\n",
    "    # Create a list of (CustomerID, similarity score) pairs\n",
    "    similar_customers = [(customer_category_matrix.index[j], similarity_scores[j]) for j in range(len(similarity_scores)) if i != j]\n",
    "    # Sort customers by similarity score (descending) and get the top 3\n",
    "    similar_customers_sorted = sorted(similar_customers, key=lambda x: x[1], reverse=True)[:3]\n",
    "    lookalike_map[customer_id] = similar_customers_sorted\n",
    "\n",
    "# Save the results to Lookalike.csv\n",
    "lookalike_data = []\n",
    "for customer_id, similar_customers in lookalike_map.items():\n",
    "    for similar_customer, score in similar_customers:\n",
    "        lookalike_data.append([customer_id, similar_customer, score])\n",
    "\n",
    "lookalike_df = pd.DataFrame(lookalike_data, columns=['CustomerID', 'RecommendedCustomerID', 'SimilarityScore'])\n",
    "lookalike_df.to_csv('Lookalike.csv', index=False)\n",
    "\n",
    "print(\"Lookalike model completed and saved as Lookalike.csv\")\n",
    "\n",
    "\n"
   ]
  },
  {
   "cell_type": "code",
   "execution_count": null,
   "id": "c0064273-61b6-4608-ba0a-6cda04a0a845",
   "metadata": {},
   "outputs": [],
   "source": []
  }
 ],
 "metadata": {
  "kernelspec": {
   "display_name": "Python 3 (ipykernel)",
   "language": "python",
   "name": "python3"
  },
  "language_info": {
   "codemirror_mode": {
    "name": "ipython",
    "version": 3
   },
   "file_extension": ".py",
   "mimetype": "text/x-python",
   "name": "python",
   "nbconvert_exporter": "python",
   "pygments_lexer": "ipython3",
   "version": "3.12.1"
  }
 },
 "nbformat": 4,
 "nbformat_minor": 5
}
